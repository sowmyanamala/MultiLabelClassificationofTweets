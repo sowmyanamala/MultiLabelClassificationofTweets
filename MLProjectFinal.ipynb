{
  "cells": [
    {
      "cell_type": "code",
      "execution_count": 2,
      "metadata": {
        "colab": {
          "base_uri": "https://localhost:8080/"
        },
        "id": "qSsl9KzCiCVu",
        "outputId": "69373643-a592-493e-d89c-686fbea315f0"
      },
      "outputs": [
        {
          "output_type": "stream",
          "name": "stderr",
          "text": [
            "[nltk_data] Downloading package stopwords to /root/nltk_data...\n",
            "[nltk_data]   Unzipping corpora/stopwords.zip.\n"
          ]
        }
      ],
      "source": [
        "import numpy as np\n",
        "import random as rand\n",
        "import pandas as pd\n",
        "import matplotlib.pyplot as plt\n",
        "import gensim  \n",
        "import keras\n",
        "from keras import optimizers\n",
        "from keras import backend as K\n",
        "from keras import regularizers\n",
        "from keras.models import Sequential\n",
        "from keras.layers import Dense, Activation, Dropout, Flatten\n",
        "from keras.layers import Embedding, Conv1D, MaxPooling1D, GlobalMaxPooling1D \n",
        "from keras.utils import plot_model, pad_sequences\n",
        "# from keras.preprocessing import sequence\n",
        "from keras.preprocessing.text import Tokenizer\n",
        "from keras.callbacks import EarlyStopping\n",
        "from sklearn.model_selection import train_test_split, StratifiedKFold\n",
        "from sklearn.metrics import classification_report, confusion_matrix, accuracy_score\n",
        "\n",
        "from tqdm import tqdm\n",
        "from nltk.corpus import stopwords\n",
        "# from nltk.tokenize import RegexpTokenizer \n",
        "import os, re, csv, math, codecs\n",
        "import nltk\n",
        "np.random.seed(0)\n",
        "\n",
        "nltk.download('stopwords')\n",
        "MAX_NB_WORDS = 100000\n",
        "stop_words = set(stopwords.words('english'))"
      ]
    },
    {
      "cell_type": "code",
      "source": [
        "from google.colab import drive\n",
        "drive.mount('/content/drive')"
      ],
      "metadata": {
        "colab": {
          "base_uri": "https://localhost:8080/"
        },
        "id": "KIOthOBdieXL",
        "outputId": "c3755382-fbe0-4ec9-f666-3ea05ba2a738"
      },
      "execution_count": 3,
      "outputs": [
        {
          "output_type": "stream",
          "name": "stdout",
          "text": [
            "Mounted at /content/drive\n"
          ]
        }
      ]
    },
    {
      "cell_type": "code",
      "execution_count": 4,
      "metadata": {
        "colab": {
          "base_uri": "https://localhost:8080/"
        },
        "id": "JEvOb8lciCVx",
        "outputId": "dfd15db4-9a64-427e-b225-f9da33e823fd"
      },
      "outputs": [
        {
          "output_type": "stream",
          "name": "stderr",
          "text": [
            "999995it [02:25, 6868.61it/s]"
          ]
        },
        {
          "output_type": "stream",
          "name": "stdout",
          "text": [
            "found 999995 word vectors\n"
          ]
        },
        {
          "output_type": "stream",
          "name": "stderr",
          "text": [
            "\n"
          ]
        }
      ],
      "source": [
        "embeddings_index = {}\n",
        "f = codecs.open('./drive/MyDrive/MLProject/wiki-news-300d-1M.vec', encoding='utf-8')\n",
        "for line in tqdm(f):\n",
        "    values = line.rstrip().rsplit(' ')\n",
        "    word = values[0]\n",
        "    coefs = np.asarray(values[1:], dtype='float32')\n",
        "    embeddings_index[word] = coefs\n",
        "f.close()\n",
        "print('found %s word vectors' % len(embeddings_index))"
      ]
    },
    {
      "cell_type": "code",
      "execution_count": 5,
      "metadata": {
        "id": "CfD091P-iCVx"
      },
      "outputs": [],
      "source": [
        "word_vectors = gensim.models.KeyedVectors.load_word2vec_format('./drive/MyDrive/MLProject/GoogleNews-vectors-negative300.bin', binary=True)"
      ]
    },
    {
      "cell_type": "code",
      "execution_count": 6,
      "metadata": {
        "id": "KKHGxRJ-iCVy"
      },
      "outputs": [],
      "source": [
        "def splitIntoStem(message):\n",
        "    return [removeNumeric(stripEmoji(singleCharacterRemove(removePunctuation\n",
        "                                                           (removeHyperlinks\n",
        "                                                            (removeHashtags\n",
        "                                                             (removeUsernames\n",
        "                                                              (stemWord(word)))))))) for word in message.split()]\n",
        "def stemWord(tweet):\n",
        "    return tweet.lower()\n",
        "\n",
        "def removeUsernames(tweet):\n",
        "    return re.sub('@[^\\s]+', '', tweet)\n",
        "\n",
        "def removeHashtags(tweet):\n",
        "    return re.sub(r'#[^\\s]+', '', tweet)\n",
        "\n",
        "def removeHyperlinks(tweet):\n",
        "    return re.sub('((www\\.[^\\s]+)|(https?://[^\\s]+))', '', tweet)\n",
        "\n",
        "def removeNumeric(value):\n",
        "    blist2 = [item for item in value if not item.isdigit()]\n",
        "    blist3 = \"\".join(blist2)\n",
        "    return blist3\n",
        "\n",
        "def removePunctuation(tweet):\n",
        "\n",
        "    return re.sub(r'[^\\w\\s]','',tweet)\n",
        "\n",
        "def singleCharacterRemove(tweet):\n",
        "    return re.sub(r'(?:^| )\\w(?:$| )', ' ', tweet)\n",
        "\n",
        "def stripEmoji(text):\n",
        "\n",
        "    RE_EMOJI = re.compile('[\\U00010000-\\U0010ffff]', flags=re.UNICODE)\n",
        "    return RE_EMOJI.sub(r'', text)"
      ]
    },
    {
      "cell_type": "code",
      "execution_count": 8,
      "metadata": {
        "id": "wrHLu50UiCVy"
      },
      "outputs": [],
      "source": [
        "#load data\n",
        "tweets_df = pd.read_csv('./tweets_dataset1.csv', sep=',', header=0)\n",
        "tweet_list = tweets_df['tweet'].tolist()\n",
        "label_names = [\"business\", \"entertainment\", \"health\", \"politics\"]\n",
        "labels = tweets_df[label_names].values"
      ]
    },
    {
      "cell_type": "code",
      "execution_count": 9,
      "metadata": {
        "scrolled": false,
        "colab": {
          "base_uri": "https://localhost:8080/"
        },
        "id": "8s8sS7sziCVy",
        "outputId": "22c5f013-8172-49cc-e31e-dd77654ffdc2"
      },
      "outputs": [
        {
          "output_type": "stream",
          "name": "stderr",
          "text": [
            "100%|██████████| 21149/21149 [00:05<00:00, 4083.55it/s]\n"
          ]
        }
      ],
      "source": [
        "processed_list = []\n",
        "for sentence in tqdm(tweet_list):\n",
        "    tokens = \" \".join(splitIntoStem(sentence)).split()\n",
        "    filtered = [word for word in tokens if word not in stop_words]\n",
        "    processed_list.append(\" \".join(filtered))"
      ]
    },
    {
      "cell_type": "code",
      "execution_count": 10,
      "metadata": {
        "colab": {
          "base_uri": "https://localhost:8080/"
        },
        "id": "5D16l1z_iCVz",
        "outputId": "20c24fcd-833c-47da-8481-dcd12ff2401f"
      },
      "outputs": [
        {
          "output_type": "execute_result",
          "data": {
            "text/plain": [
              "11"
            ]
          },
          "metadata": {},
          "execution_count": 10
        }
      ],
      "source": [
        "df = pd.DataFrame()\n",
        "df[\"tweet\"] = processed_list\n",
        "df['doc_len'] = df['tweet'].apply(lambda words: len(words.split(\" \")))\n",
        "max_seq_len = np.round(df['doc_len'].mean() + df['doc_len'].std()).astype(int)\n",
        "max_seq_len"
      ]
    },
    {
      "cell_type": "code",
      "execution_count": 11,
      "metadata": {
        "id": "UO7oOP9wiCVz"
      },
      "outputs": [],
      "source": [
        "x_train, x_test, y_train, y_test = train_test_split(processed_list, labels, test_size=0.2)"
      ]
    },
    {
      "cell_type": "code",
      "execution_count": 12,
      "metadata": {
        "colab": {
          "base_uri": "https://localhost:8080/"
        },
        "id": "6M51rCsAiCVz",
        "outputId": "daa5d722-716c-47b9-bfec-10af79319576"
      },
      "outputs": [
        {
          "output_type": "stream",
          "name": "stdout",
          "text": [
            "dictionary size:  20091\n"
          ]
        }
      ],
      "source": [
        "tokenizer = Tokenizer()\n",
        "tokenizer.fit_on_texts(x_train + x_test)\n",
        "word_seq_train = tokenizer.texts_to_sequences(x_train)\n",
        "word_seq_test = tokenizer.texts_to_sequences(x_test)\n",
        "word_index = tokenizer.word_index\n",
        "print(\"dictionary size: \", len(word_index))"
      ]
    },
    {
      "cell_type": "code",
      "execution_count": 13,
      "metadata": {
        "colab": {
          "base_uri": "https://localhost:8080/"
        },
        "id": "HQY_Oa0MiCVz",
        "outputId": "bdae38c9-6434-4be4-e186-c77dec62d12b"
      },
      "outputs": [
        {
          "output_type": "execute_result",
          "data": {
            "text/plain": [
              "array([ 9,  6,  5, ...,  3,  5, 11])"
            ]
          },
          "metadata": {},
          "execution_count": 13
        }
      ],
      "source": [
        "num_tokens = [len(tokens) for tokens in word_seq_train + word_seq_test]\n",
        "num_tokens = np.array(num_tokens)\n",
        "num_tokens"
      ]
    },
    {
      "cell_type": "code",
      "execution_count": 15,
      "metadata": {
        "id": "XLraNsFCiCV0"
      },
      "outputs": [],
      "source": [
        "#pad sequences\n",
        "word_seq_train = pad_sequences(word_seq_train, maxlen=max_seq_len)\n",
        "word_seq_test = pad_sequences(word_seq_test, maxlen=max_seq_len)"
      ]
    },
    {
      "cell_type": "code",
      "execution_count": 16,
      "metadata": {
        "id": "2MbRTeC-iCV0"
      },
      "outputs": [],
      "source": [
        "word_seq_test = word_seq_test[:-1]\n",
        "y_test = y_test[:-1]"
      ]
    },
    {
      "cell_type": "code",
      "execution_count": 17,
      "metadata": {
        "id": "MqWpmumwiCV0"
      },
      "outputs": [],
      "source": [
        "#training params\n",
        "batch_size = 2048\n",
        "epochs = 12\n",
        "\n",
        "#model parameters\n",
        "num_filters = 64 \n",
        "embed_dim = 300 \n",
        "weight_decay = 1e-4"
      ]
    },
    {
      "cell_type": "code",
      "execution_count": 18,
      "metadata": {
        "id": "ixCWzb71iCV0"
      },
      "outputs": [],
      "source": [
        "nb_words = min(MAX_NB_WORDS, len(word_index))\n",
        "embedding_matrix = np.zeros((nb_words, embed_dim))\n",
        "embedding_matrix2 = np.zeros((nb_words, embed_dim))"
      ]
    },
    {
      "cell_type": "code",
      "execution_count": 19,
      "metadata": {
        "colab": {
          "base_uri": "https://localhost:8080/"
        },
        "id": "Sx83tnt6iCV0",
        "outputId": "9629d218-e5a2-4cc6-b312-b102ac4da4e2"
      },
      "outputs": [
        {
          "output_type": "stream",
          "name": "stdout",
          "text": [
            "number of null word embeddings: 4069\n",
            "sample words not found:  ['eyesâ' 'shopify' 'indepndnt' 'doinâ' 'sisson' 'littlewe' 'strai'\n",
            " 'washingtonarea' 'allentown' 'katies']\n"
          ]
        }
      ],
      "source": [
        "words_not_found = []\n",
        "\n",
        "for word, i in word_index.items():\n",
        "    if i >= nb_words:\n",
        "        continue\n",
        "    embedding_vector = embeddings_index.get(word)\n",
        "    if (embedding_vector is not None) and len(embedding_vector) > 0:\n",
        "        embedding_matrix[i] = embedding_vector\n",
        "    else:\n",
        "        words_not_found.append(word)\n",
        "print('number of null word embeddings: %d' % np.sum(np.sum(embedding_matrix, axis=1) == 0))\n",
        "print(\"sample words not found: \", np.random.choice(words_not_found, 10))"
      ]
    },
    {
      "cell_type": "code",
      "execution_count": 20,
      "metadata": {
        "id": "GVx63Y9jiCV0"
      },
      "outputs": [],
      "source": [
        "for word, i in word_index.items():\n",
        "    if i >= nb_words:\n",
        "        continue\n",
        "    try:\n",
        "        embedding_vector = word_vectors[word]\n",
        "        embedding_matrix2[i] = embedding_vector\n",
        "    except KeyError:\n",
        "        embedding_matrix2[i]=np.random.normal(0,np.sqrt(0.25),embed_dim)\n",
        "\n",
        "del(word_vectors)"
      ]
    },
    {
      "cell_type": "code",
      "execution_count": 21,
      "metadata": {
        "colab": {
          "base_uri": "https://localhost:8080/"
        },
        "id": "doHGwQFXiCV1",
        "outputId": "a2a23eca-3550-4ebf-b194-3a24af10cc37"
      },
      "outputs": [
        {
          "output_type": "stream",
          "name": "stdout",
          "text": [
            "Model: \"sequential\"\n",
            "_________________________________________________________________\n",
            " Layer (type)                Output Shape              Param #   \n",
            "=================================================================\n",
            " embedding (Embedding)       (None, 11, 300)           6027300   \n",
            "                                                                 \n",
            " conv1d (Conv1D)             (None, 11, 64)            134464    \n",
            "                                                                 \n",
            " max_pooling1d (MaxPooling1D  (None, 5, 64)            0         \n",
            " )                                                               \n",
            "                                                                 \n",
            " conv1d_1 (Conv1D)           (None, 5, 64)             28736     \n",
            "                                                                 \n",
            " max_pooling1d_1 (MaxPooling  (None, 2, 64)            0         \n",
            " 1D)                                                             \n",
            "                                                                 \n",
            " global_max_pooling1d (Globa  (None, 64)               0         \n",
            " lMaxPooling1D)                                                  \n",
            "                                                                 \n"
          ]
        },
        {
          "output_type": "stream",
          "name": "stderr",
          "text": [
            "/usr/local/lib/python3.10/dist-packages/keras/optimizers/legacy/adam.py:117: UserWarning: The `lr` argument is deprecated, use `learning_rate` instead.\n",
            "  super().__init__(name, **kwargs)\n"
          ]
        },
        {
          "output_type": "stream",
          "name": "stdout",
          "text": [
            " dense (Dense)               (None, 32)                2080      \n",
            "                                                                 \n",
            " dense_1 (Dense)             (None, 4)                 132       \n",
            "                                                                 \n",
            "=================================================================\n",
            "Total params: 6,192,712\n",
            "Trainable params: 165,412\n",
            "Non-trainable params: 6,027,300\n",
            "_________________________________________________________________\n"
          ]
        }
      ],
      "source": [
        "model = Sequential()\n",
        "model.add(Embedding(nb_words, embed_dim, weights=[embedding_matrix], input_length=max_seq_len, trainable=False))\n",
        "model.add(Conv1D(64, 7, padding='same', activation='relu'))\n",
        "model.add(MaxPooling1D(2))\n",
        "model.add(Conv1D(64, 7, activation='relu', padding='same'))\n",
        "model.add(MaxPooling1D(2))\n",
        "model.add(GlobalMaxPooling1D())\n",
        "model.add(Dense(32, activation='relu'))\n",
        "model.add(Dense(4, activation='softmax'))\n",
        "opt = keras.optimizers.Adam(lr=0.01)\n",
        "model.compile(loss='categorical_crossentropy', optimizer=opt, metrics=['accuracy'])\n",
        "model.summary()"
      ]
    },
    {
      "cell_type": "code",
      "execution_count": 23,
      "metadata": {
        "colab": {
          "base_uri": "https://localhost:8080/"
        },
        "id": "gMwBLAF3iCV1",
        "outputId": "761fd9fc-80eb-4549-fd0f-9d96712f50ea"
      },
      "outputs": [
        {
          "output_type": "stream",
          "name": "stdout",
          "text": [
            "Epoch 1/12\n",
            "9/9 [==============================] - 12s 1s/step - loss: 1.2513 - accuracy: 0.4126 - val_loss: 1.0151 - val_accuracy: 0.5630\n",
            "Epoch 2/12\n",
            "9/9 [==============================] - 6s 647ms/step - loss: 0.9487 - accuracy: 0.6081 - val_loss: 0.8601 - val_accuracy: 0.6581\n",
            "Epoch 3/12\n",
            "9/9 [==============================] - 6s 649ms/step - loss: 0.8145 - accuracy: 0.6730 - val_loss: 0.7937 - val_accuracy: 0.6874\n",
            "Epoch 4/12\n",
            "9/9 [==============================] - 4s 443ms/step - loss: 0.7039 - accuracy: 0.7252 - val_loss: 0.7725 - val_accuracy: 0.6964\n",
            "Epoch 5/12\n",
            "9/9 [==============================] - 4s 425ms/step - loss: 0.5823 - accuracy: 0.7724 - val_loss: 0.7684 - val_accuracy: 0.7113\n",
            "Epoch 6/12\n",
            "9/9 [==============================] - 4s 485ms/step - loss: 0.4537 - accuracy: 0.8290 - val_loss: 0.8415 - val_accuracy: 0.7148\n",
            "Epoch 7/12\n",
            "9/9 [==============================] - 5s 562ms/step - loss: 0.3329 - accuracy: 0.8736 - val_loss: 0.8590 - val_accuracy: 0.7245\n",
            "Epoch 8/12\n",
            "9/9 [==============================] - 4s 423ms/step - loss: 0.2409 - accuracy: 0.9092 - val_loss: 1.0039 - val_accuracy: 0.7309\n",
            "Epoch 9/12\n",
            "9/9 [==============================] - 4s 422ms/step - loss: 0.1774 - accuracy: 0.9306 - val_loss: 1.1518 - val_accuracy: 0.7188\n",
            "Epoch 10/12\n",
            "9/9 [==============================] - 7s 635ms/step - loss: 0.1492 - accuracy: 0.9397 - val_loss: 1.2855 - val_accuracy: 0.7191\n",
            "Epoch 11/12\n",
            "9/9 [==============================] - 4s 423ms/step - loss: 0.1258 - accuracy: 0.9467 - val_loss: 1.4063 - val_accuracy: 0.7271\n",
            "Epoch 12/12\n",
            "9/9 [==============================] - 4s 395ms/step - loss: 0.1169 - accuracy: 0.9491 - val_loss: 1.4805 - val_accuracy: 0.7245\n"
          ]
        }
      ],
      "source": [
        "history = model.fit(word_seq_train, y_train, batch_size = batch_size, epochs = epochs, shuffle = True, validation_data = (word_seq_test, y_test))"
      ]
    },
    {
      "cell_type": "code",
      "execution_count": 24,
      "metadata": {
        "colab": {
          "base_uri": "https://localhost:8080/"
        },
        "id": "x81rfAVCiCV1",
        "outputId": "d0fe307e-8923-41f4-f13e-fbd2aebda9c8"
      },
      "outputs": [
        {
          "output_type": "stream",
          "name": "stdout",
          "text": [
            "Model: \"sequential_2\"\n",
            "_________________________________________________________________\n",
            " Layer (type)                Output Shape              Param #   \n",
            "=================================================================\n",
            " embedding_2 (Embedding)     (None, 11, 300)           6027300   \n",
            "                                                                 \n",
            " conv1d_4 (Conv1D)           (None, 11, 64)            134464    \n",
            "                                                                 \n",
            " max_pooling1d_4 (MaxPooling  (None, 5, 64)            0         \n",
            " 1D)                                                             \n",
            "                                                                 \n",
            " conv1d_5 (Conv1D)           (None, 5, 64)             28736     \n",
            "                                                                 \n",
            " max_pooling1d_5 (MaxPooling  (None, 2, 64)            0         \n",
            " 1D)                                                             \n",
            "                                                                 \n",
            " global_max_pooling1d_2 (Glo  (None, 64)               0         \n",
            " balMaxPooling1D)                                                \n",
            "                                                                 \n",
            " dropout_1 (Dropout)         (None, 64)                0         \n",
            "                                                                 \n",
            " dense_4 (Dense)             (None, 32)                2080      \n",
            "                                                                 \n",
            " dense_5 (Dense)             (None, 4)                 132       \n",
            "                                                                 \n",
            "=================================================================\n",
            "Total params: 6,192,712\n",
            "Trainable params: 165,412\n",
            "Non-trainable params: 6,027,300\n",
            "_________________________________________________________________\n"
          ]
        }
      ],
      "source": [
        "model2 = Sequential()\n",
        "model2.add(Embedding(nb_words, embed_dim, weights=[embedding_matrix2], input_length=max_seq_len, trainable=False))\n",
        "model2.add(Conv1D(64, 7, padding='same', activation='relu'))\n",
        "model2.add(MaxPooling1D(2))\n",
        "model2.add(Conv1D(64, 7, activation='relu', padding='same'))\n",
        "model2.add(MaxPooling1D(2))\n",
        "model2.add(GlobalMaxPooling1D())\n",
        "model2.add(Dropout(0.5))\n",
        "model2.add(Dense(32, activation='relu'))\n",
        "model2.add(Dense(4, activation='softmax'))\n",
        "model2.compile(loss='categorical_crossentropy', optimizer='adam', metrics=['accuracy'])\n",
        "model2.summary()"
      ]
    },
    {
      "cell_type": "code",
      "execution_count": 25,
      "metadata": {
        "colab": {
          "base_uri": "https://localhost:8080/"
        },
        "id": "Rzx-pPOIiCV1",
        "outputId": "81cdf51a-c1ad-484b-eb1c-a5ddd47deb78"
      },
      "outputs": [
        {
          "output_type": "stream",
          "name": "stdout",
          "text": [
            "Epoch 1/12\n",
            "9/9 [==============================] - 7s 631ms/step - loss: 1.3674 - accuracy: 0.3268 - val_loss: 1.2856 - val_accuracy: 0.4963\n",
            "Epoch 2/12\n",
            "9/9 [==============================] - 4s 434ms/step - loss: 1.2296 - accuracy: 0.4647 - val_loss: 1.0887 - val_accuracy: 0.5628\n",
            "Epoch 3/12\n",
            "9/9 [==============================] - 4s 423ms/step - loss: 1.0723 - accuracy: 0.5482 - val_loss: 0.9732 - val_accuracy: 0.5973\n",
            "Epoch 4/12\n",
            "9/9 [==============================] - 5s 526ms/step - loss: 0.9722 - accuracy: 0.5997 - val_loss: 0.9201 - val_accuracy: 0.6328\n",
            "Epoch 5/12\n",
            "9/9 [==============================] - 5s 537ms/step - loss: 0.9089 - accuracy: 0.6374 - val_loss: 0.8812 - val_accuracy: 0.6486\n",
            "Epoch 6/12\n",
            "9/9 [==============================] - 4s 415ms/step - loss: 0.8538 - accuracy: 0.6661 - val_loss: 0.8511 - val_accuracy: 0.6642\n",
            "Epoch 7/12\n",
            "9/9 [==============================] - 4s 409ms/step - loss: 0.8064 - accuracy: 0.6859 - val_loss: 0.8305 - val_accuracy: 0.6716\n",
            "Epoch 8/12\n",
            "9/9 [==============================] - 6s 660ms/step - loss: 0.7579 - accuracy: 0.7094 - val_loss: 0.8164 - val_accuracy: 0.6829\n",
            "Epoch 9/12\n",
            "9/9 [==============================] - 4s 415ms/step - loss: 0.7165 - accuracy: 0.7275 - val_loss: 0.8054 - val_accuracy: 0.6879\n",
            "Epoch 10/12\n",
            "9/9 [==============================] - 4s 425ms/step - loss: 0.6734 - accuracy: 0.7441 - val_loss: 0.8006 - val_accuracy: 0.6961\n",
            "Epoch 11/12\n",
            "9/9 [==============================] - 6s 657ms/step - loss: 0.6329 - accuracy: 0.7632 - val_loss: 0.7904 - val_accuracy: 0.7025\n",
            "Epoch 12/12\n",
            "9/9 [==============================] - 4s 409ms/step - loss: 0.5867 - accuracy: 0.7831 - val_loss: 0.7923 - val_accuracy: 0.7058\n"
          ]
        }
      ],
      "source": [
        "history2 = model2.fit(word_seq_train, y_train, batch_size = batch_size, epochs = epochs, shuffle = True, validation_data = (word_seq_test, y_test))"
      ]
    },
    {
      "cell_type": "code",
      "execution_count": 26,
      "metadata": {
        "colab": {
          "base_uri": "https://localhost:8080/"
        },
        "id": "QYygvpT5iCV1",
        "outputId": "ce35b6fd-3783-4d1e-8b1a-4802c8696eca"
      },
      "outputs": [
        {
          "output_type": "stream",
          "name": "stdout",
          "text": [
            "133/133 [==============================] - 2s 12ms/step\n",
            "              precision    recall  f1-score   support\n",
            "\n",
            "           0       0.72      0.65      0.69      1051\n",
            "           1       0.65      0.76      0.70      1099\n",
            "           2       0.75      0.75      0.75      1078\n",
            "           3       0.79      0.73      0.76      1001\n",
            "\n",
            "    accuracy                           0.72      4229\n",
            "   macro avg       0.73      0.72      0.73      4229\n",
            "weighted avg       0.73      0.72      0.72      4229\n",
            "\n"
          ]
        }
      ],
      "source": [
        "y_pred = model.predict(word_seq_test)\n",
        "y_pred_bool = np.argmax(y_pred, axis=1)\n",
        "rounded_labels = np.argmax(y_test, axis = 1)\n",
        "print(classification_report(rounded_labels, y_pred_bool))"
      ]
    },
    {
      "cell_type": "code",
      "execution_count": 27,
      "metadata": {
        "colab": {
          "base_uri": "https://localhost:8080/"
        },
        "id": "p27lsciMiCV1",
        "outputId": "9faac370-81da-4136-9763-3567a76790aa"
      },
      "outputs": [
        {
          "output_type": "stream",
          "name": "stdout",
          "text": [
            "133/133 [==============================] - 1s 6ms/step\n",
            "              precision    recall  f1-score   support\n",
            "\n",
            "           0       0.65      0.65      0.65      1051\n",
            "           1       0.64      0.76      0.69      1099\n",
            "           2       0.79      0.70      0.74      1078\n",
            "           3       0.78      0.71      0.74      1001\n",
            "\n",
            "    accuracy                           0.71      4229\n",
            "   macro avg       0.71      0.71      0.71      4229\n",
            "weighted avg       0.71      0.71      0.71      4229\n",
            "\n"
          ]
        }
      ],
      "source": [
        "y_pred = model2.predict(word_seq_test)\n",
        "y_pred_bool = np.argmax(y_pred, axis=1)\n",
        "rounded_labels = np.argmax(y_test, axis = 1)\n",
        "print(classification_report(rounded_labels, y_pred_bool))"
      ]
    },
    {
      "cell_type": "code",
      "execution_count": 29,
      "metadata": {
        "id": "NPMbMbvQiCV1"
      },
      "outputs": [],
      "source": [
        "loss1 = history.history['loss']\n",
        "val_loss1 = history.history['val_loss']\n",
        "acc1 = history.history['accuracy']\n",
        "val_acc1 = history.history['val_accuracy']\n",
        "loss2 = history2.history['loss']\n",
        "val_loss2 = history2.history['val_loss']\n",
        "acc2 = history2.history['accuracy']\n",
        "val_acc2 = history2.history['val_accuracy']\n",
        "\n",
        "epochs1 = range(1, len(loss1) + 1)"
      ]
    },
    {
      "cell_type": "code",
      "execution_count": 30,
      "metadata": {
        "colab": {
          "base_uri": "https://localhost:8080/",
          "height": 472
        },
        "id": "afAEER-QiCV2",
        "outputId": "380a87d2-e9da-4813-e733-e73f2383c7da"
      },
      "outputs": [
        {
          "output_type": "display_data",
          "data": {
            "text/plain": [
              "<Figure size 640x480 with 1 Axes>"
            ],
            "image/png": "[encoded data removed]"
          },
          "metadata": {}
        }
      ],
      "source": [
        "plt.plot(epochs1, val_acc1, color='red', label='Fasttext Val_Acc')\n",
        "plt.plot(epochs1, val_acc2, color='green', label='Skipgram Val_Acc')\n",
        "plt.title('Validation accuracy Fasttext vs Skipgram')\n",
        "plt.xlabel('Epochs')\n",
        "plt.ylabel('Loss')\n",
        "plt.legend()\n",
        "plt.show()"
      ]
    },
    {
      "cell_type": "code",
      "execution_count": 31,
      "metadata": {
        "colab": {
          "base_uri": "https://localhost:8080/"
        },
        "id": "Z698AHTmiCV2",
        "outputId": "5f117ea1-6bfd-4dbf-f530-42496e35ab16"
      },
      "outputs": [
        {
          "output_type": "stream",
          "name": "stdout",
          "text": [
            "[1 1 1 1 0 1]\n"
          ]
        }
      ],
      "source": [
        "#Binary to Real Mapping\n",
        "Num_filters = [32, 64, 128, 256]\n",
        "Batch = [64, 256, 1024, 2048]\n",
        "Filter_size = [5, 7, 9, 11]\n",
        "\n",
        "# x -> np array BPSO Particle\n",
        "x = np.random.randint(2, size = 6)\n",
        "print(x)\n",
        "\n",
        "nf = int(\"\".join(map(str, x[0:2])), 2)\n",
        "bp = int(\"\".join(map(str, x[2:4])), 2)\n",
        "fs = int(\"\".join(map(str, x[4:6])), 2)\n",
        "\n",
        "num_filters = Num_filters[nf]\n",
        "bp = Batch[bp]\n",
        "filter_size = Filter_size[fs]"
      ]
    },
    {
      "cell_type": "code",
      "execution_count": 32,
      "metadata": {
        "id": "hVkURckdiCV2"
      },
      "outputs": [],
      "source": [
        "def cnn_optimizer(x):\n",
        "    nf = int(\"\".join(map(str, x[0:2])), 2)\n",
        "    bp = int(\"\".join(map(str, x[2:4])), 2)\n",
        "    fs = int(\"\".join(map(str, x[4:6])), 2)\n",
        "    num_filters = Num_filters[nf]\n",
        "    batch = Batch[bp]\n",
        "    filter_size = Filter_size[fs]\n",
        "#     return model(num_filters, batch, filter_size, word_seq_train, y_train, word_seq_test, y_test)\n",
        "    model = model_build(num_filters, batch, filter_size, word_seq_train, y_train, word_seq_test, y_test)\n",
        "    history = model.fit(word_seq_train, y_train, batch_size = batch, epochs = epochs, shuffle = True, validation_data = (word_seq_test, y_test))\n",
        "    score, acc = model.evaluate(word_seq_test, y_test)\n",
        "    print('Val accuracy:', acc)\n",
        "    return acc"
      ]
    },
    {
      "cell_type": "code",
      "execution_count": 33,
      "metadata": {
        "id": "kU9aWhAliCV2"
      },
      "outputs": [],
      "source": [
        "def model(num_filters, batch, filter_size, word_seq_train, y_train, word_seq_test, y_val):\n",
        "    model = Sequential()\n",
        "    model.add(Embedding(nb_words, embed_dim, weights=[embedding_matrix], input_length=max_seq_len, trainable=False))\n",
        "    model.add(Conv1D(num_filters, filter_size, padding='same', activation='relu'))\n",
        "    model.add(GlobalMaxPooling1D())\n",
        "    model.add(Dense(32, activation='relu'))\n",
        "    model.add(Dense(4, activation='softmax'))\n",
        "    model.compile(loss='categorical_crossentropy', optimizer='adam', metrics=['accuracy'])\n",
        "    model.summary()\n",
        "    history = model.fit(word_seq_train, y_train, batch_size = batch, epochs = epochs, shuffle = True, validation_data = (word_seq_test, y_test))\n",
        "    score, acc = model.evaluate(word_seq_test, y_test)\n",
        "    print('Val accuracy:', acc)\n",
        "    return acc"
      ]
    },
    {
      "cell_type": "code",
      "execution_count": 34,
      "metadata": {
        "id": "vtKsuvWBiCV2"
      },
      "outputs": [],
      "source": [
        "def model_build(num_filters, batch, filter_size, word_seq_train, y_train, word_seq_test, y_val):\n",
        "    model = Sequential()\n",
        "    model.add(Embedding(nb_words, embed_dim, weights=[embedding_matrix], input_length=max_seq_len, trainable=False))\n",
        "    model.add(Conv1D(num_filters, filter_size, padding='same', activation='relu'))\n",
        "    model.add(GlobalMaxPooling1D())\n",
        "    model.add(Dense(32, activation='relu'))\n",
        "    model.add(Dense(4, activation='softmax'))\n",
        "    model.compile(loss='categorical_crossentropy', optimizer='adam', metrics=['accuracy'])\n",
        "    model.summary()\n",
        "    return model"
      ]
    },
    {
      "cell_type": "code",
      "execution_count": 35,
      "metadata": {
        "id": "yL1MQyqViCV2"
      },
      "outputs": [],
      "source": [
        "D = 6\n",
        "N = 6\n",
        "w = 0.7\n",
        "c1 = np.random.rand()\n",
        "c2 = np.random.rand()\n",
        "iter_num = 1"
      ]
    },
    {
      "cell_type": "code",
      "execution_count": 36,
      "metadata": {
        "id": "jRG0h0dMiCV2"
      },
      "outputs": [],
      "source": [
        "class Particle:\n",
        "    def __init__(self, D):\n",
        "        self.velocity = np.zeros(D)\n",
        "        self.coordinates = np.random.randint(2, size = D)\n",
        "        self.best_position = np.copy(self.coordinates)\n",
        "        self.best_score = 0\n",
        "\n",
        "    def __update_velocity(self, group_best_pos, w, c1, c2):\n",
        "        self.velocity = w * self.velocity + c1 * rand.random() * (self.best_position - self.coordinates) + c2 * rand.random() * (group_best_pos - self.coordinates)\n",
        "    \n",
        "    def compare_update(self, s):\n",
        "        if s < np.random.rand(1):\n",
        "            return 1\n",
        "        else:\n",
        "            return 0\n",
        "    \n",
        "    def sigmoid(x):\n",
        "        return 1.0 / (1.0 + np.exp(-(x)))\n",
        "    \n",
        "    def move(self, group_best_pos, w, c1, c2, fitness_function):\n",
        "        self.__update_velocity(group_best_pos, w, c1, c2)\n",
        "        self.coordinates = list(map(self.compare_update, list(map(self.sigmoid, self.velocity))))\n",
        "        current_score = fitness_function(self.coordinates)        \n",
        "        if current_score > self.best_score:\n",
        "            self.best_position = np.copy(self.coordinates)\n",
        "            self.best_score = current_score\n",
        "\n",
        "    def sigmoid(self, x):\n",
        "        return 1.0 / (1.0 + np.exp(-(x)))\n",
        "    \n",
        "    def __str__(self):\n",
        "        return (\n",
        "        'Current velocity = {0};\\nPosition: {1};\\nBest position so far: {2};\\nScore for the best position = {3}.\\n' \\\n",
        "        .format(self.velocity, self.coordinates, self.best_position, self.best_score))"
      ]
    },
    {
      "cell_type": "code",
      "execution_count": 37,
      "metadata": {
        "id": "7hEYi3CEiCV3"
      },
      "outputs": [],
      "source": [
        "class Swarm:\n",
        "    def __init__(self, D, N, w, c1, c2, iter_num):\n",
        "        self.particles = [Particle(D) for _ in range(N)]\n",
        "        self.dimension = D\n",
        "        self.particles_num = N\n",
        "        self.w = w\n",
        "        self.c1 = c1\n",
        "        self.c2 = c2\n",
        "        self.iter_num = iter_num\n",
        "\n",
        "        rnd_particle = self.particles[np.random.randint(N)]\n",
        "        self.group_best_position = np.copy(rnd_particle.coordinates)\n",
        "        self.group_best_score = self.fitness_function(rnd_particle.coordinates)\n",
        "        for p in self.particles:\n",
        "            print(p.__str__())\n",
        "\n",
        "    def _update_group_best(self):\n",
        "        for p in self.particles:\n",
        "            if p.best_score > self.group_best_score:\n",
        "                self.group_best_score = p.best_score\n",
        "                self.group_best_position = np.copy(p.coordinates)\n",
        "\n",
        "    def _move_all(self):\n",
        "        for p in self.particles:\n",
        "            p.move(self.group_best_position, self.w, self.c1, self.c2, self.fitness_function)\n",
        "\n",
        "    def optimize(self):\n",
        "        i = 0\n",
        "        self._update_group_best()\n",
        "        while(i < self.iter_num):\n",
        "            self._move_all()\n",
        "            self._update_group_best()\n",
        "            i += 1\n",
        "            print(i,\" iteration grp_best: \",self.group_best_position)\n",
        "            for p in self.particles:\n",
        "                print(p.__str__())\n",
        "        return self.group_best_position\n",
        "    \n",
        "    def fitness_function(self, x):\n",
        "        return cnn_optimizer(x)\n",
        "    \n",
        "    def __str__(self):\n",
        "        return 'Best one:{0}'.format(self.group_best_position)"
      ]
    },
    {
      "cell_type": "code",
      "execution_count": 38,
      "metadata": {
        "colab": {
          "base_uri": "https://localhost:8080/"
        },
        "id": "56kHCFXMiCV3",
        "outputId": "50f6472e-66cd-4e3f-ffb1-7d964993a5e1"
      },
      "outputs": [
        {
          "output_type": "stream",
          "name": "stdout",
          "text": [
            "Model: \"sequential_3\"\n",
            "_________________________________________________________________\n",
            " Layer (type)                Output Shape              Param #   \n",
            "=================================================================\n",
            " embedding_3 (Embedding)     (None, 11, 300)           6027300   \n",
            "                                                                 \n",
            " conv1d_6 (Conv1D)           (None, 11, 64)            96064     \n",
            "                                                                 \n",
            " global_max_pooling1d_3 (Glo  (None, 64)               0         \n",
            " balMaxPooling1D)                                                \n",
            "                                                                 \n",
            " dense_6 (Dense)             (None, 32)                2080      \n",
            "                                                                 \n",
            " dense_7 (Dense)             (None, 4)                 132       \n",
            "                                                                 \n",
            "=================================================================\n",
            "Total params: 6,125,576\n",
            "Trainable params: 98,276\n",
            "Non-trainable params: 6,027,300\n",
            "_________________________________________________________________\n",
            "Epoch 1/12\n",
            "67/67 [==============================] - 6s 80ms/step - loss: 1.1033 - accuracy: 0.5483 - val_loss: 0.9158 - val_accuracy: 0.6257\n",
            "Epoch 2/12\n",
            "67/67 [==============================] - 3s 45ms/step - loss: 0.8226 - accuracy: 0.6782 - val_loss: 0.8071 - val_accuracy: 0.6843\n",
            "Epoch 3/12\n",
            "67/67 [==============================] - 3s 45ms/step - loss: 0.7013 - accuracy: 0.7290 - val_loss: 0.7589 - val_accuracy: 0.7092\n",
            "Epoch 4/12\n",
            "67/67 [==============================] - 3s 45ms/step - loss: 0.6027 - accuracy: 0.7755 - val_loss: 0.7412 - val_accuracy: 0.7160\n",
            "Epoch 5/12\n",
            "67/67 [==============================] - 5s 78ms/step - loss: 0.5123 - accuracy: 0.8154 - val_loss: 0.7315 - val_accuracy: 0.7245\n",
            "Epoch 6/12\n",
            "67/67 [==============================] - 3s 46ms/step - loss: 0.4280 - accuracy: 0.8527 - val_loss: 0.7147 - val_accuracy: 0.7333\n",
            "Epoch 7/12\n",
            "67/67 [==============================] - 3s 44ms/step - loss: 0.3544 - accuracy: 0.8838 - val_loss: 0.7255 - val_accuracy: 0.7333\n",
            "Epoch 8/12\n",
            "67/67 [==============================] - 3s 45ms/step - loss: 0.2917 - accuracy: 0.9062 - val_loss: 0.7475 - val_accuracy: 0.7340\n",
            "Epoch 9/12\n",
            "67/67 [==============================] - 5s 71ms/step - loss: 0.2435 - accuracy: 0.9238 - val_loss: 0.7590 - val_accuracy: 0.7366\n",
            "Epoch 10/12\n",
            "67/67 [==============================] - 3s 50ms/step - loss: 0.2064 - accuracy: 0.9342 - val_loss: 0.7835 - val_accuracy: 0.7378\n",
            "Epoch 11/12\n",
            "67/67 [==============================] - 3s 45ms/step - loss: 0.1777 - accuracy: 0.9416 - val_loss: 0.8289 - val_accuracy: 0.7307\n",
            "Epoch 12/12\n",
            "67/67 [==============================] - 3s 44ms/step - loss: 0.1561 - accuracy: 0.9462 - val_loss: 0.8442 - val_accuracy: 0.7349\n",
            "133/133 [==============================] - 1s 5ms/step - loss: 0.8442 - accuracy: 0.7349\n",
            "Val accuracy: 0.7349255084991455\n",
            "Current velocity = [0. 0. 0. 0. 0. 0.];\n",
            "Position: [1 1 1 1 1 1];\n",
            "Best position so far: [1 1 1 1 1 1];\n",
            "Score for the best position = 0.\n",
            "\n",
            "Current velocity = [0. 0. 0. 0. 0. 0.];\n",
            "Position: [0 0 0 0 1 1];\n",
            "Best position so far: [0 0 0 0 1 1];\n",
            "Score for the best position = 0.\n",
            "\n",
            "Current velocity = [0. 0. 0. 0. 0. 0.];\n",
            "Position: [0 1 1 0 1 1];\n",
            "Best position so far: [0 1 1 0 1 1];\n",
            "Score for the best position = 0.\n",
            "\n",
            "Current velocity = [0. 0. 0. 0. 0. 0.];\n",
            "Position: [0 1 0 1 0 0];\n",
            "Best position so far: [0 1 0 1 0 0];\n",
            "Score for the best position = 0.\n",
            "\n",
            "Current velocity = [0. 0. 0. 0. 0. 0.];\n",
            "Position: [0 1 0 1 0 0];\n",
            "Best position so far: [0 1 0 1 0 0];\n",
            "Score for the best position = 0.\n",
            "\n",
            "Current velocity = [0. 0. 0. 0. 0. 0.];\n",
            "Position: [1 1 1 0 1 0];\n",
            "Best position so far: [1 1 1 0 1 0];\n",
            "Score for the best position = 0.\n",
            "\n"
          ]
        }
      ],
      "source": [
        "s = Swarm(D, N = N, w = w, c1 = c1, c2 = c2, iter_num = iter_num)"
      ]
    },
    {
      "cell_type": "code",
      "execution_count": 39,
      "metadata": {
        "scrolled": true,
        "colab": {
          "base_uri": "https://localhost:8080/"
        },
        "id": "DEi64xaNiCV3",
        "outputId": "1417d234-94aa-435b-96e5-c86c52813206"
      },
      "outputs": [
        {
          "output_type": "stream",
          "name": "stdout",
          "text": [
            "Model: \"sequential_4\"\n",
            "_________________________________________________________________\n",
            " Layer (type)                Output Shape              Param #   \n",
            "=================================================================\n",
            " embedding_4 (Embedding)     (None, 11, 300)           6027300   \n",
            "                                                                 \n",
            " conv1d_7 (Conv1D)           (None, 11, 256)           691456    \n",
            "                                                                 \n",
            " global_max_pooling1d_4 (Glo  (None, 256)              0         \n",
            " balMaxPooling1D)                                                \n",
            "                                                                 \n",
            " dense_8 (Dense)             (None, 32)                8224      \n",
            "                                                                 \n",
            " dense_9 (Dense)             (None, 4)                 132       \n",
            "                                                                 \n",
            "=================================================================\n",
            "Total params: 6,727,112\n",
            "Trainable params: 699,812\n",
            "Non-trainable params: 6,027,300\n",
            "_________________________________________________________________\n",
            "Epoch 1/12\n",
            "17/17 [==============================] - 14s 705ms/step - loss: 1.1251 - accuracy: 0.5366 - val_loss: 0.9214 - val_accuracy: 0.6193\n",
            "Epoch 2/12\n",
            "17/17 [==============================] - 13s 771ms/step - loss: 0.8270 - accuracy: 0.6687 - val_loss: 0.8087 - val_accuracy: 0.6770\n",
            "Epoch 3/12\n",
            "17/17 [==============================] - 13s 778ms/step - loss: 0.6997 - accuracy: 0.7327 - val_loss: 0.7603 - val_accuracy: 0.7089\n",
            "Epoch 4/12\n",
            "17/17 [==============================] - 13s 779ms/step - loss: 0.5917 - accuracy: 0.7896 - val_loss: 0.7269 - val_accuracy: 0.7214\n",
            "Epoch 5/12\n",
            "17/17 [==============================] - 13s 790ms/step - loss: 0.4952 - accuracy: 0.8336 - val_loss: 0.7021 - val_accuracy: 0.7373\n",
            "Epoch 6/12\n",
            "17/17 [==============================] - 15s 920ms/step - loss: 0.4024 - accuracy: 0.8745 - val_loss: 0.6817 - val_accuracy: 0.7434\n",
            "Epoch 7/12\n",
            "17/17 [==============================] - 13s 780ms/step - loss: 0.3215 - accuracy: 0.9042 - val_loss: 0.6711 - val_accuracy: 0.7489\n",
            "Epoch 8/12\n",
            "17/17 [==============================] - 13s 785ms/step - loss: 0.2545 - accuracy: 0.9272 - val_loss: 0.6726 - val_accuracy: 0.7534\n",
            "Epoch 9/12\n",
            "17/17 [==============================] - 13s 761ms/step - loss: 0.2091 - accuracy: 0.9376 - val_loss: 0.6791 - val_accuracy: 0.7531\n",
            "Epoch 10/12\n",
            "17/17 [==============================] - 11s 645ms/step - loss: 0.1767 - accuracy: 0.9442 - val_loss: 0.6849 - val_accuracy: 0.7555\n",
            "Epoch 11/12\n",
            "17/17 [==============================] - 13s 724ms/step - loss: 0.1544 - accuracy: 0.9478 - val_loss: 0.6974 - val_accuracy: 0.7555\n",
            "Epoch 12/12\n",
            "17/17 [==============================] - 13s 759ms/step - loss: 0.1408 - accuracy: 0.9491 - val_loss: 0.7141 - val_accuracy: 0.7564\n",
            "133/133 [==============================] - 2s 13ms/step - loss: 0.7141 - accuracy: 0.7564\n",
            "Val accuracy: 0.7564436197280884\n",
            "Model: \"sequential_5\"\n",
            "_________________________________________________________________\n",
            " Layer (type)                Output Shape              Param #   \n",
            "=================================================================\n",
            " embedding_5 (Embedding)     (None, 11, 300)           6027300   \n",
            "                                                                 \n",
            " conv1d_8 (Conv1D)           (None, 11, 256)           691456    \n",
            "                                                                 \n",
            " global_max_pooling1d_5 (Glo  (None, 256)              0         \n",
            " balMaxPooling1D)                                                \n",
            "                                                                 \n",
            " dense_10 (Dense)            (None, 32)                8224      \n",
            "                                                                 \n",
            " dense_11 (Dense)            (None, 4)                 132       \n",
            "                                                                 \n",
            "=================================================================\n",
            "Total params: 6,727,112\n",
            "Trainable params: 699,812\n",
            "Non-trainable params: 6,027,300\n",
            "_________________________________________________________________\n",
            "Epoch 1/12\n",
            "17/17 [==============================] - 14s 749ms/step - loss: 1.1226 - accuracy: 0.5521 - val_loss: 0.9124 - val_accuracy: 0.6486\n",
            "Epoch 2/12\n",
            "17/17 [==============================] - 13s 769ms/step - loss: 0.8284 - accuracy: 0.6734 - val_loss: 0.8153 - val_accuracy: 0.6782\n",
            "Epoch 3/12\n",
            "17/17 [==============================] - 13s 752ms/step - loss: 0.7060 - accuracy: 0.7322 - val_loss: 0.7614 - val_accuracy: 0.7118\n",
            "Epoch 4/12\n",
            "17/17 [==============================] - 13s 759ms/step - loss: 0.6062 - accuracy: 0.7828 - val_loss: 0.7292 - val_accuracy: 0.7193\n",
            "Epoch 5/12\n",
            "17/17 [==============================] - 13s 755ms/step - loss: 0.5099 - accuracy: 0.8293 - val_loss: 0.7045 - val_accuracy: 0.7330\n",
            "Epoch 6/12\n",
            "17/17 [==============================] - 13s 757ms/step - loss: 0.4208 - accuracy: 0.8691 - val_loss: 0.6830 - val_accuracy: 0.7470\n",
            "Epoch 7/12\n",
            "17/17 [==============================] - 11s 638ms/step - loss: 0.3364 - accuracy: 0.9025 - val_loss: 0.6761 - val_accuracy: 0.7475\n",
            "Epoch 8/12\n",
            "17/17 [==============================] - 12s 704ms/step - loss: 0.2712 - accuracy: 0.9222 - val_loss: 0.6662 - val_accuracy: 0.7501\n",
            "Epoch 9/12\n",
            "17/17 [==============================] - 13s 753ms/step - loss: 0.2199 - accuracy: 0.9358 - val_loss: 0.6682 - val_accuracy: 0.7522\n",
            "Epoch 10/12\n",
            "17/17 [==============================] - 13s 773ms/step - loss: 0.1863 - accuracy: 0.9429 - val_loss: 0.6814 - val_accuracy: 0.7517\n",
            "Epoch 11/12\n",
            "17/17 [==============================] - 13s 777ms/step - loss: 0.1631 - accuracy: 0.9467 - val_loss: 0.6894 - val_accuracy: 0.7517\n",
            "Epoch 12/12\n",
            "17/17 [==============================] - 13s 766ms/step - loss: 0.1470 - accuracy: 0.9491 - val_loss: 0.7000 - val_accuracy: 0.7505\n",
            "133/133 [==============================] - 2s 13ms/step - loss: 0.7000 - accuracy: 0.7505\n",
            "Val accuracy: 0.7505320310592651\n",
            "Model: \"sequential_6\"\n",
            "_________________________________________________________________\n",
            " Layer (type)                Output Shape              Param #   \n",
            "=================================================================\n",
            " embedding_6 (Embedding)     (None, 11, 300)           6027300   \n",
            "                                                                 \n",
            " conv1d_9 (Conv1D)           (None, 11, 64)            211264    \n",
            "                                                                 \n",
            " global_max_pooling1d_6 (Glo  (None, 64)               0         \n",
            " balMaxPooling1D)                                                \n",
            "                                                                 \n",
            " dense_12 (Dense)            (None, 32)                2080      \n",
            "                                                                 \n",
            " dense_13 (Dense)            (None, 4)                 132       \n",
            "                                                                 \n",
            "=================================================================\n",
            "Total params: 6,240,776\n",
            "Trainable params: 213,476\n",
            "Non-trainable params: 6,027,300\n",
            "_________________________________________________________________\n",
            "Epoch 1/12\n",
            "17/17 [==============================] - 6s 306ms/step - loss: 1.2347 - accuracy: 0.4919 - val_loss: 1.0624 - val_accuracy: 0.5945\n",
            "Epoch 2/12\n",
            "17/17 [==============================] - 7s 392ms/step - loss: 0.9625 - accuracy: 0.6282 - val_loss: 0.9032 - val_accuracy: 0.6311\n",
            "Epoch 3/12\n",
            "17/17 [==============================] - 5s 296ms/step - loss: 0.8288 - accuracy: 0.6743 - val_loss: 0.8336 - val_accuracy: 0.6716\n",
            "Epoch 4/12\n",
            "17/17 [==============================] - 7s 413ms/step - loss: 0.7404 - accuracy: 0.7175 - val_loss: 0.7884 - val_accuracy: 0.6997\n",
            "Epoch 5/12\n",
            "17/17 [==============================] - 5s 300ms/step - loss: 0.6637 - accuracy: 0.7552 - val_loss: 0.7642 - val_accuracy: 0.7056\n",
            "Epoch 6/12\n",
            "17/17 [==============================] - 5s 290ms/step - loss: 0.5940 - accuracy: 0.7881 - val_loss: 0.7405 - val_accuracy: 0.7144\n",
            "Epoch 7/12\n",
            "17/17 [==============================] - 7s 409ms/step - loss: 0.5257 - accuracy: 0.8187 - val_loss: 0.7207 - val_accuracy: 0.7264\n",
            "Epoch 8/12\n",
            "17/17 [==============================] - 5s 276ms/step - loss: 0.4631 - accuracy: 0.8454 - val_loss: 0.7096 - val_accuracy: 0.7314\n",
            "Epoch 9/12\n",
            "17/17 [==============================] - 7s 434ms/step - loss: 0.4040 - accuracy: 0.8723 - val_loss: 0.7059 - val_accuracy: 0.7366\n",
            "Epoch 10/12\n",
            "17/17 [==============================] - 5s 270ms/step - loss: 0.3504 - accuracy: 0.8939 - val_loss: 0.6981 - val_accuracy: 0.7420\n",
            "Epoch 11/12\n",
            "17/17 [==============================] - 5s 274ms/step - loss: 0.3048 - accuracy: 0.9098 - val_loss: 0.6974 - val_accuracy: 0.7418\n",
            "Epoch 12/12\n",
            "17/17 [==============================] - 7s 403ms/step - loss: 0.2664 - accuracy: 0.9223 - val_loss: 0.7043 - val_accuracy: 0.7427\n",
            "133/133 [==============================] - 1s 6ms/step - loss: 0.7043 - accuracy: 0.7427\n",
            "Val accuracy: 0.7427287697792053\n",
            "Model: \"sequential_7\"\n",
            "_________________________________________________________________\n",
            " Layer (type)                Output Shape              Param #   \n",
            "=================================================================\n",
            " embedding_7 (Embedding)     (None, 11, 300)           6027300   \n",
            "                                                                 \n",
            " conv1d_10 (Conv1D)          (None, 11, 128)           268928    \n",
            "                                                                 \n",
            " global_max_pooling1d_7 (Glo  (None, 128)              0         \n",
            " balMaxPooling1D)                                                \n",
            "                                                                 \n",
            " dense_14 (Dense)            (None, 32)                4128      \n",
            "                                                                 \n",
            " dense_15 (Dense)            (None, 4)                 132       \n",
            "                                                                 \n",
            "=================================================================\n",
            "Total params: 6,300,488\n",
            "Trainable params: 273,188\n",
            "Non-trainable params: 6,027,300\n",
            "_________________________________________________________________\n",
            "Epoch 1/12\n",
            "9/9 [==============================] - 6s 540ms/step - loss: 1.2914 - accuracy: 0.4357 - val_loss: 1.1443 - val_accuracy: 0.6056\n",
            "Epoch 2/12\n",
            "9/9 [==============================] - 7s 757ms/step - loss: 1.0513 - accuracy: 0.6298 - val_loss: 0.9691 - val_accuracy: 0.6288\n",
            "Epoch 3/12\n",
            "9/9 [==============================] - 5s 507ms/step - loss: 0.9037 - accuracy: 0.6555 - val_loss: 0.8827 - val_accuracy: 0.6522\n",
            "Epoch 4/12\n",
            "9/9 [==============================] - 6s 730ms/step - loss: 0.8192 - accuracy: 0.6823 - val_loss: 0.8368 - val_accuracy: 0.6737\n",
            "Epoch 5/12\n",
            "9/9 [==============================] - 5s 551ms/step - loss: 0.7582 - accuracy: 0.7096 - val_loss: 0.8059 - val_accuracy: 0.6841\n",
            "Epoch 6/12\n",
            "9/9 [==============================] - 5s 537ms/step - loss: 0.7053 - accuracy: 0.7325 - val_loss: 0.7838 - val_accuracy: 0.6900\n",
            "Epoch 7/12\n",
            "9/9 [==============================] - 7s 799ms/step - loss: 0.6579 - accuracy: 0.7560 - val_loss: 0.7658 - val_accuracy: 0.6959\n",
            "Epoch 8/12\n",
            "9/9 [==============================] - 5s 536ms/step - loss: 0.6107 - accuracy: 0.7804 - val_loss: 0.7512 - val_accuracy: 0.7084\n",
            "Epoch 9/12\n",
            "9/9 [==============================] - 6s 669ms/step - loss: 0.5654 - accuracy: 0.8017 - val_loss: 0.7379 - val_accuracy: 0.7188\n",
            "Epoch 10/12\n",
            "9/9 [==============================] - 6s 580ms/step - loss: 0.5216 - accuracy: 0.8222 - val_loss: 0.7284 - val_accuracy: 0.7214\n",
            "Epoch 11/12\n",
            "9/9 [==============================] - 5s 547ms/step - loss: 0.4789 - accuracy: 0.8410 - val_loss: 0.7203 - val_accuracy: 0.7226\n",
            "Epoch 12/12\n",
            "9/9 [==============================] - 7s 813ms/step - loss: 0.4391 - accuracy: 0.8579 - val_loss: 0.7144 - val_accuracy: 0.7311\n",
            "133/133 [==============================] - 1s 7ms/step - loss: 0.7144 - accuracy: 0.7311\n",
            "Val accuracy: 0.7311421036720276\n",
            "Model: \"sequential_8\"\n",
            "_________________________________________________________________\n",
            " Layer (type)                Output Shape              Param #   \n",
            "=================================================================\n",
            " embedding_8 (Embedding)     (None, 11, 300)           6027300   \n",
            "                                                                 \n",
            " conv1d_11 (Conv1D)          (None, 11, 256)           384256    \n",
            "                                                                 \n",
            " global_max_pooling1d_8 (Glo  (None, 256)              0         \n",
            " balMaxPooling1D)                                                \n",
            "                                                                 \n",
            " dense_16 (Dense)            (None, 32)                8224      \n",
            "                                                                 \n",
            " dense_17 (Dense)            (None, 4)                 132       \n",
            "                                                                 \n",
            "=================================================================\n",
            "Total params: 6,419,912\n",
            "Trainable params: 392,612\n",
            "Non-trainable params: 6,027,300\n",
            "_________________________________________________________________\n",
            "Epoch 1/12\n",
            "17/17 [==============================] - 7s 372ms/step - loss: 1.2033 - accuracy: 0.5075 - val_loss: 1.0007 - val_accuracy: 0.6101\n",
            "Epoch 2/12\n",
            "17/17 [==============================] - 8s 483ms/step - loss: 0.9066 - accuracy: 0.6401 - val_loss: 0.8566 - val_accuracy: 0.6581\n",
            "Epoch 3/12\n",
            "17/17 [==============================] - 6s 367ms/step - loss: 0.7783 - accuracy: 0.6956 - val_loss: 0.7976 - val_accuracy: 0.6891\n",
            "Epoch 4/12\n",
            "17/17 [==============================] - 8s 493ms/step - loss: 0.6851 - accuracy: 0.7371 - val_loss: 0.7576 - val_accuracy: 0.7063\n",
            "Epoch 5/12\n",
            "17/17 [==============================] - 6s 357ms/step - loss: 0.6014 - accuracy: 0.7792 - val_loss: 0.7309 - val_accuracy: 0.7212\n",
            "Epoch 6/12\n",
            "17/17 [==============================] - 8s 490ms/step - loss: 0.5215 - accuracy: 0.8201 - val_loss: 0.7058 - val_accuracy: 0.7389\n",
            "Epoch 7/12\n",
            "17/17 [==============================] - 6s 366ms/step - loss: 0.4465 - accuracy: 0.8538 - val_loss: 0.6930 - val_accuracy: 0.7408\n",
            "Epoch 8/12\n",
            "17/17 [==============================] - 8s 489ms/step - loss: 0.3775 - accuracy: 0.8831 - val_loss: 0.6910 - val_accuracy: 0.7423\n",
            "Epoch 9/12\n",
            "17/17 [==============================] - 6s 364ms/step - loss: 0.3184 - accuracy: 0.9061 - val_loss: 0.6707 - val_accuracy: 0.7536\n",
            "Epoch 10/12\n",
            "17/17 [==============================] - 8s 496ms/step - loss: 0.2681 - accuracy: 0.9239 - val_loss: 0.6771 - val_accuracy: 0.7508\n",
            "Epoch 11/12\n",
            "17/17 [==============================] - 6s 366ms/step - loss: 0.2275 - accuracy: 0.9358 - val_loss: 0.6747 - val_accuracy: 0.7536\n",
            "Epoch 12/12\n",
            "17/17 [==============================] - 8s 501ms/step - loss: 0.1974 - accuracy: 0.9411 - val_loss: 0.6771 - val_accuracy: 0.7536\n",
            "133/133 [==============================] - 1s 9ms/step - loss: 0.6771 - accuracy: 0.7536\n",
            "Val accuracy: 0.7536060810089111\n",
            "Model: \"sequential_9\"\n",
            "_________________________________________________________________\n",
            " Layer (type)                Output Shape              Param #   \n",
            "=================================================================\n",
            " embedding_9 (Embedding)     (None, 11, 300)           6027300   \n",
            "                                                                 \n",
            " conv1d_12 (Conv1D)          (None, 11, 256)           384256    \n",
            "                                                                 \n",
            " global_max_pooling1d_9 (Glo  (None, 256)              0         \n",
            " balMaxPooling1D)                                                \n",
            "                                                                 \n",
            " dense_18 (Dense)            (None, 32)                8224      \n",
            "                                                                 \n",
            " dense_19 (Dense)            (None, 4)                 132       \n",
            "                                                                 \n",
            "=================================================================\n",
            "Total params: 6,419,912\n",
            "Trainable params: 392,612\n",
            "Non-trainable params: 6,027,300\n",
            "_________________________________________________________________\n",
            "Epoch 1/12\n",
            "17/17 [==============================] - 8s 445ms/step - loss: 1.1857 - accuracy: 0.5279 - val_loss: 0.9916 - val_accuracy: 0.6247\n",
            "Epoch 2/12\n",
            "17/17 [==============================] - 7s 421ms/step - loss: 0.8919 - accuracy: 0.6589 - val_loss: 0.8392 - val_accuracy: 0.6701\n",
            "Epoch 3/12\n",
            "17/17 [==============================] - 7s 446ms/step - loss: 0.7608 - accuracy: 0.7045 - val_loss: 0.7793 - val_accuracy: 0.6924\n",
            "Epoch 4/12\n",
            "17/17 [==============================] - 7s 403ms/step - loss: 0.6628 - accuracy: 0.7526 - val_loss: 0.7414 - val_accuracy: 0.7151\n",
            "Epoch 5/12\n",
            "17/17 [==============================] - 8s 481ms/step - loss: 0.5733 - accuracy: 0.7935 - val_loss: 0.7183 - val_accuracy: 0.7257\n",
            "Epoch 6/12\n",
            "17/17 [==============================] - 7s 393ms/step - loss: 0.4903 - accuracy: 0.8317 - val_loss: 0.6945 - val_accuracy: 0.7380\n",
            "Epoch 7/12\n",
            "17/17 [==============================] - 8s 476ms/step - loss: 0.4130 - accuracy: 0.8680 - val_loss: 0.6805 - val_accuracy: 0.7408\n",
            "Epoch 8/12\n",
            "17/17 [==============================] - 7s 401ms/step - loss: 0.3435 - accuracy: 0.8984 - val_loss: 0.6722 - val_accuracy: 0.7460\n",
            "Epoch 9/12\n",
            "17/17 [==============================] - 8s 447ms/step - loss: 0.2876 - accuracy: 0.9167 - val_loss: 0.6741 - val_accuracy: 0.7498\n",
            "Epoch 10/12\n",
            "17/17 [==============================] - 7s 387ms/step - loss: 0.2436 - accuracy: 0.9291 - val_loss: 0.6782 - val_accuracy: 0.7493\n",
            "Epoch 11/12\n",
            "17/17 [==============================] - 7s 441ms/step - loss: 0.2065 - accuracy: 0.9386 - val_loss: 0.6818 - val_accuracy: 0.7501\n",
            "Epoch 12/12\n",
            "17/17 [==============================] - 7s 398ms/step - loss: 0.1807 - accuracy: 0.9447 - val_loss: 0.6932 - val_accuracy: 0.7498\n",
            "133/133 [==============================] - 1s 9ms/step - loss: 0.6932 - accuracy: 0.7498\n",
            "Val accuracy: 0.7498226761817932\n",
            "1  iteration grp_best:  [1 1 1 0 1 0]\n",
            "Current velocity = [-0.08382834  0.         -0.08382834  0.         -0.08382834 -0.08382834];\n",
            "Position: [1, 1, 1, 0, 1, 0];\n",
            "Best position so far: [1 1 1 0 1 0];\n",
            "Score for the best position = 0.7564436197280884.\n",
            "\n",
            "Current velocity = [ 0.          0.05276523  0.          0.05276523 -0.05276523 -0.05276523];\n",
            "Position: [1, 1, 1, 0, 1, 0];\n",
            "Best position so far: [1 1 1 0 1 0];\n",
            "Score for the best position = 0.7505320310592651.\n",
            "\n",
            "Current velocity = [ 0.          0.         -0.74792713  0.74792713 -0.74792713 -0.74792713];\n",
            "Position: [0, 1, 1, 0, 1, 1];\n",
            "Best position so far: [0 1 1 0 1 1];\n",
            "Score for the best position = 0.7427287697792053.\n",
            "\n",
            "Current velocity = [0. 0. 0. 0. 0. 0.];\n",
            "Position: [1, 0, 1, 1, 0, 1];\n",
            "Best position so far: [1 0 1 1 0 1];\n",
            "Score for the best position = 0.7311421036720276.\n",
            "\n",
            "Current velocity = [0. 0. 0. 0. 0. 0.];\n",
            "Position: [1, 1, 1, 0, 0, 0];\n",
            "Best position so far: [1 1 1 0 0 0];\n",
            "Score for the best position = 0.7536060810089111.\n",
            "\n",
            "Current velocity = [-0.72996379  0.         -0.72996379  0.72996379 -0.72996379  0.        ];\n",
            "Position: [1, 1, 1, 0, 0, 0];\n",
            "Best position so far: [1 1 1 0 0 0];\n",
            "Score for the best position = 0.7498226761817932.\n",
            "\n"
          ]
        }
      ],
      "source": [
        "parameters = s.optimize()"
      ]
    },
    {
      "cell_type": "code",
      "execution_count": 40,
      "metadata": {
        "colab": {
          "base_uri": "https://localhost:8080/"
        },
        "id": "OTkBLGNbiCV3",
        "outputId": "e78491c3-1343-4642-d315-fc403e9e2b87"
      },
      "outputs": [
        {
          "output_type": "stream",
          "name": "stdout",
          "text": [
            "Model: \"sequential_10\"\n",
            "_________________________________________________________________\n",
            " Layer (type)                Output Shape              Param #   \n",
            "=================================================================\n",
            " embedding_10 (Embedding)    (None, 11, 300)           6027300   \n",
            "                                                                 \n",
            " conv1d_13 (Conv1D)          (None, 11, 256)           691456    \n",
            "                                                                 \n",
            " global_max_pooling1d_10 (Gl  (None, 256)              0         \n",
            " obalMaxPooling1D)                                               \n",
            "                                                                 \n",
            " dense_20 (Dense)            (None, 32)                8224      \n",
            "                                                                 \n",
            " dense_21 (Dense)            (None, 4)                 132       \n",
            "                                                                 \n",
            "=================================================================\n",
            "Total params: 6,727,112\n",
            "Trainable params: 699,812\n",
            "Non-trainable params: 6,027,300\n",
            "_________________________________________________________________\n",
            "Epoch 1/12\n",
            "17/17 [==============================] - 15s 799ms/step - loss: 1.1193 - accuracy: 0.5384 - val_loss: 0.9103 - val_accuracy: 0.6358\n",
            "Epoch 2/12\n",
            "17/17 [==============================] - 13s 778ms/step - loss: 0.8210 - accuracy: 0.6746 - val_loss: 0.7997 - val_accuracy: 0.6902\n",
            "Epoch 3/12\n",
            "17/17 [==============================] - 11s 661ms/step - loss: 0.6867 - accuracy: 0.7408 - val_loss: 0.7510 - val_accuracy: 0.7118\n",
            "Epoch 4/12\n",
            "17/17 [==============================] - 12s 710ms/step - loss: 0.5729 - accuracy: 0.7983 - val_loss: 0.7127 - val_accuracy: 0.7333\n",
            "Epoch 5/12\n",
            "17/17 [==============================] - 13s 783ms/step - loss: 0.4661 - accuracy: 0.8486 - val_loss: 0.6906 - val_accuracy: 0.7401\n",
            "Epoch 6/12\n",
            "17/17 [==============================] - 13s 789ms/step - loss: 0.3685 - accuracy: 0.8884 - val_loss: 0.6818 - val_accuracy: 0.7432\n",
            "Epoch 7/12\n",
            "17/17 [==============================] - 13s 771ms/step - loss: 0.2907 - accuracy: 0.9149 - val_loss: 0.6722 - val_accuracy: 0.7498\n",
            "Epoch 8/12\n",
            "17/17 [==============================] - 13s 788ms/step - loss: 0.2302 - accuracy: 0.9333 - val_loss: 0.6702 - val_accuracy: 0.7522\n",
            "Epoch 9/12\n",
            "17/17 [==============================] - 13s 793ms/step - loss: 0.1905 - accuracy: 0.9413 - val_loss: 0.6818 - val_accuracy: 0.7493\n",
            "Epoch 10/12\n",
            "17/17 [==============================] - 13s 779ms/step - loss: 0.1644 - accuracy: 0.9465 - val_loss: 0.6946 - val_accuracy: 0.7508\n",
            "Epoch 11/12\n",
            "17/17 [==============================] - 12s 739ms/step - loss: 0.1470 - accuracy: 0.9482 - val_loss: 0.7070 - val_accuracy: 0.7503\n",
            "Epoch 12/12\n",
            "17/17 [==============================] - 11s 626ms/step - loss: 0.1353 - accuracy: 0.9499 - val_loss: 0.7225 - val_accuracy: 0.7522\n"
          ]
        }
      ],
      "source": [
        "x = parameters\n",
        "nf = int(\"\".join(map(str, x[0:2])), 2)\n",
        "bp = int(\"\".join(map(str, x[2:4])), 2)\n",
        "fs = int(\"\".join(map(str, x[4:6])), 2)\n",
        "num_filters = Num_filters[nf]\n",
        "batch = Batch[bp]\n",
        "filter_size = Filter_size[fs]\n",
        "model = model_build(num_filters, batch, filter_size, word_seq_train, y_train, word_seq_test, y_test)\n",
        "history = model.fit(word_seq_train, y_train, batch_size = batch, epochs = epochs, shuffle = True, validation_data = (word_seq_test, y_test))"
      ]
    },
    {
      "cell_type": "code",
      "execution_count": 42,
      "metadata": {
        "id": "Q7LS7NKyiCV3"
      },
      "outputs": [],
      "source": [
        "loss1 = history.history['loss']\n",
        "val_loss1 = history.history['val_loss']\n",
        "acc1 = history.history['accuracy']\n",
        "val_acc1 = history.history['val_accuracy']\n",
        "epochs1 = range(1, len(loss1) + 1)"
      ]
    },
    {
      "cell_type": "code",
      "execution_count": 43,
      "metadata": {
        "colab": {
          "base_uri": "https://localhost:8080/",
          "height": 472
        },
        "id": "q_3Fa-Q1iCV3",
        "outputId": "bab40f0b-7037-4756-b94f-4312b6f58979"
      },
      "outputs": [
        {
          "output_type": "display_data",
          "data": {
            "text/plain": [
              "<Figure size 640x480 with 1 Axes>"
            ],
            "image/png": "[encoded data removed]"
          },
          "metadata": {}
        }
      ],
      "source": [
        "plt.plot(epochs1, loss1, color='red', label='Training loss')\n",
        "plt.plot(epochs1, val_loss1, color='green', label='Validation loss')\n",
        "plt.title('Training and validation loss')\n",
        "plt.xlabel('Epochs')\n",
        "plt.ylabel('Loss')\n",
        "plt.legend()\n",
        "plt.show()"
      ]
    },
    {
      "cell_type": "code",
      "execution_count": 44,
      "metadata": {
        "colab": {
          "base_uri": "https://localhost:8080/",
          "height": 472
        },
        "id": "VkBcL0VriCV3",
        "outputId": "097f30c6-a5bd-4511-9b57-b32848b10b7b"
      },
      "outputs": [
        {
          "output_type": "display_data",
          "data": {
            "text/plain": [
              "<Figure size 640x480 with 1 Axes>"
            ],
            "image/png": "[encoded data removed]"
          },
          "metadata": {}
        }
      ],
      "source": [
        "plt.plot(epochs1, acc1, color='red', label='Training acc')\n",
        "plt.plot(epochs1, val_acc1, color='green', label='Validation acc')\n",
        "plt.title('Training and validation accuracy')\n",
        "plt.xlabel('Epochs')\n",
        "plt.ylabel('Loss')\n",
        "plt.legend()\n",
        "plt.show()"
      ]
    },
    {
      "cell_type": "code",
      "execution_count": 45,
      "metadata": {
        "colab": {
          "base_uri": "https://localhost:8080/"
        },
        "id": "R-IUNEByiCV3",
        "outputId": "e5b93ae1-85ab-49f0-fe00-da08d97c4ca5"
      },
      "outputs": [
        {
          "output_type": "stream",
          "name": "stdout",
          "text": [
            "133/133 [==============================] - 3s 20ms/step\n"
          ]
        }
      ],
      "source": [
        "y_pred = model.predict(word_seq_test)\n",
        "y_pred_bool = np.argmax(y_pred, axis=1)\n",
        "rounded_labels = np.argmax(y_test, axis = 1)"
      ]
    },
    {
      "cell_type": "code",
      "execution_count": 46,
      "metadata": {
        "colab": {
          "base_uri": "https://localhost:8080/"
        },
        "id": "Kn6FshxxiCV4",
        "outputId": "a71ae0d0-8a30-40db-9940-f6f50c3fb060"
      },
      "outputs": [
        {
          "output_type": "stream",
          "name": "stdout",
          "text": [
            "              precision    recall  f1-score   support\n",
            "\n",
            "           0       0.76      0.67      0.71      1051\n",
            "           1       0.67      0.81      0.73      1099\n",
            "           2       0.79      0.75      0.77      1078\n",
            "           3       0.82      0.77      0.80      1001\n",
            "\n",
            "    accuracy                           0.75      4229\n",
            "   macro avg       0.76      0.75      0.75      4229\n",
            "weighted avg       0.76      0.75      0.75      4229\n",
            "\n"
          ]
        }
      ],
      "source": [
        "print(classification_report(rounded_labels, y_pred_bool))"
      ]
    },
    {
      "cell_type": "code",
      "execution_count": 47,
      "metadata": {
        "colab": {
          "base_uri": "https://localhost:8080/"
        },
        "id": "9YgHbsAXiCV4",
        "outputId": "20a7ab9d-f587-4a00-a4a0-5a6074e2adbc"
      },
      "outputs": [
        {
          "output_type": "stream",
          "name": "stdout",
          "text": [
            "[[702 163  86 100]\n",
            " [ 66 892  92  49]\n",
            " [ 75 167 813  23]\n",
            " [ 78 114  35 774]]\n"
          ]
        }
      ],
      "source": [
        "print(confusion_matrix(rounded_labels, y_pred_bool))"
      ]
    },
    {
      "cell_type": "code",
      "execution_count": 48,
      "metadata": {
        "colab": {
          "base_uri": "https://localhost:8080/"
        },
        "id": "gusgpJxwiCV4",
        "outputId": "3d0390ca-90f2-4e3c-c443-a577f118e6b5"
      },
      "outputs": [
        {
          "output_type": "stream",
          "name": "stdout",
          "text": [
            "0.7521872783163869\n"
          ]
        }
      ],
      "source": [
        "print(accuracy_score(rounded_labels, y_pred_bool))"
      ]
    }
  ],
  "metadata": {
    "kernelspec": {
      "display_name": "Python 3",
      "language": "python",
      "name": "python3"
    },
    "language_info": {
      "codemirror_mode": {
        "name": "ipython",
        "version": 3
      },
      "file_extension": ".py",
      "mimetype": "text/x-python",
      "name": "python",
      "nbconvert_exporter": "python",
      "pygments_lexer": "ipython3",
      "version": "3.6.9"
    },
    "colab": {
      "provenance": []
    }
  },
  "nbformat": 4,
  "nbformat_minor": 0
}